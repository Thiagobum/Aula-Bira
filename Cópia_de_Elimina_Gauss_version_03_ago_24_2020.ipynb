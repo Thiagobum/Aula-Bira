{
  "nbformat": 4,
  "nbformat_minor": 0,
  "metadata": {
    "colab": {
      "name": "Cópia de Elimina_Gauss_version_03_ago_24_2020.ipynb",
      "provenance": [],
      "collapsed_sections": [],
      "include_colab_link": true
    },
    "kernelspec": {
      "name": "python3",
      "display_name": "Python 3"
    }
  },
  "cells": [
    {
      "cell_type": "markdown",
      "metadata": {
        "id": "view-in-github",
        "colab_type": "text"
      },
      "source": [
        "<a href=\"https://colab.research.google.com/github/Thiagobum/Aula-Bira/blob/master/C%C3%B3pia_de_Elimina_Gauss_version_03_ago_24_2020.ipynb\" target=\"_parent\"><img src=\"https://colab.research.google.com/assets/colab-badge.svg\" alt=\"Open In Colab\"/></a>"
      ]
    },
    {
      "cell_type": "code",
      "metadata": {
        "id": "remAkX_qlBLr",
        "colab_type": "code",
        "colab": {}
      },
      "source": [
        "import numpy as np\n",
        "import time\n",
        "import matplotlib.pyplot as plt\n",
        "import numpy.linalg as npla\n"
      ],
      "execution_count": null,
      "outputs": []
    },
    {
      "cell_type": "code",
      "metadata": {
        "id": "clzavdYjXoAM",
        "colab_type": "code",
        "colab": {
          "base_uri": "https://localhost:8080/",
          "height": 153
        },
        "outputId": "1399c7a7-0a09-47d0-b068-2140e1f6ce0d"
      },
      "source": [
        "!git clone https://github.com/ucfilho/Disciplina_Metodos_Numericos_2020 #clonar do Github\n",
        "%cd Disciplina_Metodos_Numericos_2020"
      ],
      "execution_count": null,
      "outputs": [
        {
          "output_type": "stream",
          "text": [
            "Cloning into 'Disciplina_Metodos_Numericos_2020'...\n",
            "remote: Enumerating objects: 156, done.\u001b[K\n",
            "remote: Counting objects: 100% (156/156), done.\u001b[K\n",
            "remote: Compressing objects: 100% (154/154), done.\u001b[K\n",
            "remote: Total 156 (delta 86), reused 0 (delta 0), pack-reused 0\u001b[K\n",
            "Receiving objects: 100% (156/156), 86.04 KiB | 7.82 MiB/s, done.\n",
            "Resolving deltas: 100% (86/86), done.\n",
            "/content/Disciplina_Metodos_Numericos_2020/Disciplina_Metodos_Numericos_2020/Disciplina_Metodos_Numericos_2020/Disciplina_Metodos_Numericos_2020\n"
          ],
          "name": "stdout"
        }
      ]
    },
    {
      "cell_type": "code",
      "metadata": {
        "id": "4OjpuViIyte3",
        "colab_type": "code",
        "colab": {
          "base_uri": "https://localhost:8080/",
          "height": 35
        },
        "outputId": "8cbd01ea-96d3-453c-8d18-3bf54a70990f"
      },
      "source": [
        "'''\n",
        "# caso fosse no computador\n",
        "import os \n",
        "Local=\"C://Endereco da pasta\"\n",
        "os.chdir(Local) \n",
        "'''"
      ],
      "execution_count": null,
      "outputs": [
        {
          "output_type": "execute_result",
          "data": {
            "application/vnd.google.colaboratory.intrinsic+json": {
              "type": "string"
            },
            "text/plain": [
              "'\\n# caso fosse no computador\\nimport os \\nLocal=\"C://Endereco da pasta\"\\nos.chdir(Local) \\n'"
            ]
          },
          "metadata": {
            "tags": []
          },
          "execution_count": 18
        }
      ]
    },
    {
      "cell_type": "markdown",
      "metadata": {
        "id": "YTY3JZV2UNGf",
        "colab_type": "text"
      },
      "source": [
        ""
      ]
    },
    {
      "cell_type": "code",
      "metadata": {
        "id": "dBfKB-QKm-91",
        "colab_type": "code",
        "colab": {}
      },
      "source": [
        "from Elimina_Gauss import LU, BS"
      ],
      "execution_count": null,
      "outputs": []
    },
    {
      "cell_type": "code",
      "metadata": {
        "id": "nQAUrcZ7nwbu",
        "colab_type": "code",
        "colab": {
          "base_uri": "https://localhost:8080/",
          "height": 68
        },
        "outputId": "36b4c540-114c-41ed-cb3b-f4ae882a3bc1"
      },
      "source": [
        "ini = time.time()\n",
        "# create the matrix A\n",
        "A = np. array ([[5, -2, 5, -5, 6, -8] ,[-6, 6, -3, 1, 4, -8] , [-1, -4, -9, 6, 9, 5], [-5, 5, -7, 3, -4, 3], [7, 5, -8, -4, 7, -6], [ 4, -1, -3, 5, -3, -5]])\n",
        "\n",
        "# create the right-hand side\n",
        "feed = np. array ([-9 ,-5 ,23, 21, 65, 149])\n",
        "\n",
        "M,info = LU(A,feed)\n",
        "x,info = BS(M)\n",
        "\n",
        "# print the solution\n",
        "print(x)\n",
        "\n",
        "# check the solution\n",
        "check_sol = np.dot(A,x)\n",
        "print(check_sol) \n",
        "fim = time.time()\n",
        "print ('Função soma1: ', fim-ini)"
      ],
      "execution_count": null,
      "outputs": [
        {
          "output_type": "stream",
          "text": [
            "[ 8.16800776 -2.63104842 -6.75834057  8.12861698 -6.02902316 -6.93834888]\n",
            "[ -9.  -5.  23.  21.  65. 149.]\n",
            "Função soma1:  0.0020165443420410156\n"
          ],
          "name": "stdout"
        }
      ]
    }
  ]
}