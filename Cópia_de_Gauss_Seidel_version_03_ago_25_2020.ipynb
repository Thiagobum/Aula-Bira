{
  "nbformat": 4,
  "nbformat_minor": 0,
  "metadata": {
    "colab": {
      "name": "Cópia de Gauss_Seidel_version_03_ago_25_2020.ipynb",
      "provenance": [],
      "collapsed_sections": [],
      "include_colab_link": true
    },
    "kernelspec": {
      "name": "python3",
      "display_name": "Python 3"
    }
  },
  "cells": [
    {
      "cell_type": "markdown",
      "metadata": {
        "id": "view-in-github",
        "colab_type": "text"
      },
      "source": [
        "<a href=\"https://colab.research.google.com/github/Thiagobum/Aula-Bira/blob/master/C%C3%B3pia_de_Gauss_Seidel_version_03_ago_25_2020.ipynb\" target=\"_parent\"><img src=\"https://colab.research.google.com/assets/colab-badge.svg\" alt=\"Open In Colab\"/></a>"
      ]
    },
    {
      "cell_type": "code",
      "metadata": {
        "id": "remAkX_qlBLr",
        "colab_type": "code",
        "colab": {}
      },
      "source": [
        "import numpy as np \n",
        "import time"
      ],
      "execution_count": null,
      "outputs": []
    },
    {
      "cell_type": "code",
      "metadata": {
        "id": "fw_B_rml2-Xm",
        "colab_type": "code",
        "colab": {
          "base_uri": "https://localhost:8080/",
          "height": 173
        },
        "outputId": "0e242185-40c2-4069-b8a7-ac21be6eb988"
      },
      "source": [
        "!git clone https://github.com/ucfilho/Disciplina_Metodos_Numericos_2020 #clonar do Github\n",
        "%cd Disciplina_Metodos_Numericos_2020"
      ],
      "execution_count": null,
      "outputs": [
        {
          "output_type": "stream",
          "text": [
            "Cloning into 'Disciplina_Metodos_Numericos_2020'...\n",
            "remote: Enumerating objects: 156, done.\u001b[K\n",
            "remote: Counting objects: 100% (156/156), done.\u001b[K\n",
            "remote: Compressing objects: 100% (154/154), done.\u001b[K\n",
            "remote: Total 156 (delta 86), reused 0 (delta 0), pack-reused 0\u001b[K\n",
            "Receiving objects: 100% (156/156), 86.04 KiB | 2.26 MiB/s, done.\n",
            "Resolving deltas: 100% (86/86), done.\n",
            "/content/Disciplina_Metodos_Numericos_2020/Disciplina_Metodos_Numericos_2020/Disciplina_Metodos_Numericos_2020/Disciplina_Metodos_Numericos_2020/Disciplina_Metodos_Numericos_2020/Disciplina_Metodos_Numericos_2020/Disciplina_Metodos_Numericos_2020/Disciplina_Metodos_Numericos_2020/Disciplina_Metodos_Numericos_2020\n"
          ],
          "name": "stdout"
        }
      ]
    },
    {
      "cell_type": "code",
      "metadata": {
        "id": "wK-Ph0ot3HAL",
        "colab_type": "code",
        "colab": {}
      },
      "source": [
        "from GaussSeidel import gauss_seidel"
      ],
      "execution_count": null,
      "outputs": []
    },
    {
      "cell_type": "code",
      "metadata": {
        "id": "dBfKB-QKm-91",
        "colab_type": "code",
        "colab": {
          "base_uri": "https://localhost:8080/",
          "height": 102
        },
        "outputId": "7124ccc6-4744-40c3-fa0e-1d8c3de4a2e1"
      },
      "source": [
        "ini = time.time()\n",
        "# create the matrix A\n",
        "A = np. array ([[5, -2, 5, -5, 6, -8] ,[-6, 6, -3, 1, 4, -8] , [-1, -4, -9, 6, 9, 5], [-5, 5, -7, 3, -4, 3], [7, 5, -8, -4, 7, -6], [ 4, -1, -3, 5, -3, -5]])\n",
        "\n",
        "# create the right-hand side\n",
        "f = np. array ([-9 ,-5 ,23, 21, 65, 149])\n",
        "\n",
        "# our initial guess\n",
        "x0 = np.array([ 1,1,1,1,1,1])\n",
        "\n",
        "# compute the solution\n",
        "x,info, niter   = gauss_seidel(A,f,x0)\n",
        "print(x)\n",
        "print('convergiu ?',info, 'sim se for 1 e nao se for zero' )\n",
        "print( 'iteracoes=',niter)\n",
        "fim = time.time()\n",
        "print ('Função soma1: ', fim-ini)"
      ],
      "execution_count": null,
      "outputs": [
        {
          "output_type": "stream",
          "text": [
            "[-2.43057164e+87 -5.59012175e+87  1.35777578e+88  4.45771653e+88\n",
            "  4.81750860e+88  6.69902607e+87]\n",
            "convergiu ? 0 sim se for 1 e nao se for zero\n",
            "iteracoes= 100\n",
            "Função soma1:  0.016869306564331055\n"
          ],
          "name": "stdout"
        }
      ]
    }
  ]
}