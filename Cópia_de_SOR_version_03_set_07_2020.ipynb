{
  "nbformat": 4,
  "nbformat_minor": 0,
  "metadata": {
    "colab": {
      "name": "Cópia de SOR_version_03_set_07_2020.ipynb",
      "provenance": [],
      "collapsed_sections": [],
      "include_colab_link": true
    },
    "kernelspec": {
      "name": "python3",
      "display_name": "Python 3"
    }
  },
  "cells": [
    {
      "cell_type": "markdown",
      "metadata": {
        "id": "view-in-github",
        "colab_type": "text"
      },
      "source": [
        "<a href=\"https://colab.research.google.com/github/Thiagobum/Aula-Bira/blob/master/C%C3%B3pia_de_SOR_version_03_set_07_2020.ipynb\" target=\"_parent\"><img src=\"https://colab.research.google.com/assets/colab-badge.svg\" alt=\"Open In Colab\"/></a>"
      ]
    },
    {
      "cell_type": "code",
      "metadata": {
        "id": "KxY_T5E5pO46",
        "colab_type": "code",
        "colab": {}
      },
      "source": [
        "import numpy as np\n",
        "import time"
      ],
      "execution_count": null,
      "outputs": []
    },
    {
      "cell_type": "code",
      "metadata": {
        "id": "rt3rrmXGzpVb",
        "colab_type": "code",
        "colab": {
          "base_uri": "https://localhost:8080/",
          "height": 173
        },
        "outputId": "23202070-a15e-4d9a-cc6d-49682f0e64d3"
      },
      "source": [
        "!git clone https://github.com/ucfilho/Disciplina_Metodos_Numericos_2020 #clonar do Github\n",
        "%cd Disciplina_Metodos_Numericos_2020"
      ],
      "execution_count": null,
      "outputs": [
        {
          "output_type": "stream",
          "text": [
            "Cloning into 'Disciplina_Metodos_Numericos_2020'...\n",
            "remote: Enumerating objects: 156, done.\u001b[K\n",
            "remote: Counting objects: 100% (156/156), done.\u001b[K\n",
            "remote: Compressing objects: 100% (154/154), done.\u001b[K\n",
            "remote: Total 156 (delta 86), reused 0 (delta 0), pack-reused 0\u001b[K\n",
            "Receiving objects: 100% (156/156), 86.04 KiB | 265.00 KiB/s, done.\n",
            "Resolving deltas: 100% (86/86), done.\n",
            "/content/Disciplina_Metodos_Numericos_2020/Disciplina_Metodos_Numericos_2020/Disciplina_Metodos_Numericos_2020/Disciplina_Metodos_Numericos_2020/Disciplina_Metodos_Numericos_2020\n"
          ],
          "name": "stdout"
        }
      ]
    },
    {
      "cell_type": "code",
      "metadata": {
        "id": "CIrpvHRyoq-l",
        "colab_type": "code",
        "colab": {}
      },
      "source": [
        "from SystemSOR import SOR"
      ],
      "execution_count": null,
      "outputs": []
    },
    {
      "cell_type": "code",
      "metadata": {
        "id": "-ZF9kdhOqx2u",
        "colab_type": "code",
        "colab": {
          "base_uri": "https://localhost:8080/",
          "height": 85
        },
        "outputId": "5d0da5a9-348e-4546-ce10-6e5f2aa1117f"
      },
      "source": [
        "ini = time.time()\n",
        "# create the matrix A\n",
        "A = np. array ([[5, -2, 5, -5, 6, -8] ,[-6, 6, -3, 1, 4, -8] , [-1, -4, -9, 6, 9, 5], [-5, 5, -7, 3, -4, 3], [7, 5, -8, -4, 7, -6], [ 4, -1, -3, 5, -3, -5]])\n",
        "\n",
        "# create the right-hand side\n",
        "f = np. array ([-9 ,-5 ,23, 21, 65, 149])\n",
        "\n",
        "# our initial guess\n",
        "x0 = np.array([8, -3, -7, 8, -6, -7])\n",
        "w=0.5\n",
        "tol=1e-8\n",
        "ITE=100\n",
        "sol,info,iterations=SOR(A,f,x0,w,tol,ITE)\n",
        "print(info,'em',iterations,'iteracoes')\n",
        "print(sol)\n",
        "fim = time.time()\n",
        "print ('Função soma1: ', fim-ini)"
      ],
      "execution_count": null,
      "outputs": [
        {
          "output_type": "stream",
          "text": [
            "nao convergiu em 99 iteracoes\n",
            "[-2.37754531e+36 -3.87886210e+36  1.19525545e+37  2.60527070e+37\n",
            "  2.19077417e+37  2.90821795e+36]\n",
            "Função soma1:  0.003999471664428711\n"
          ],
          "name": "stdout"
        }
      ]
    }
  ]
}