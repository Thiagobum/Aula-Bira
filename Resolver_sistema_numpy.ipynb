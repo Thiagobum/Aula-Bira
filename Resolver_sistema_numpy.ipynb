{
  "nbformat": 4,
  "nbformat_minor": 0,
  "metadata": {
    "colab": {
      "name": "Untitled1.ipynb",
      "provenance": [],
      "authorship_tag": "ABX9TyPTVQQbg9aS7oqqzfPrnF5z",
      "include_colab_link": true
    },
    "kernelspec": {
      "name": "python3",
      "display_name": "Python 3"
    }
  },
  "cells": [
    {
      "cell_type": "markdown",
      "metadata": {
        "id": "view-in-github",
        "colab_type": "text"
      },
      "source": [
        "<a href=\"https://colab.research.google.com/github/Thiagobum/Aula-Bira/blob/master/Resolver_sistema_numpy.ipynb\" target=\"_parent\"><img src=\"https://colab.research.google.com/assets/colab-badge.svg\" alt=\"Open In Colab\"/></a>"
      ]
    },
    {
      "cell_type": "code",
      "metadata": {
        "id": "SVqB3ISGp9dq",
        "colab_type": "code",
        "colab": {
          "base_uri": "https://localhost:8080/",
          "height": 34
        },
        "outputId": "565f8d07-68c7-4b1e-bc5e-b66b3b44efb6"
      },
      "source": [
        "import numpy as np\n",
        "import time\n",
        "ini = time.time()\n",
        "A = np.array([[5, -2, 5, -5, 6, -8] ,[-6, 6, -3, 1, 4, -8] , [-1, -4, -9, 6, 9, 5], [-5, 5, -7, 3, -4, 3], [7, 5, -8, -4, 7, -6], [ 4, -1, -3, 5, -3, -5]])\n",
        "b = np.array ([-9 ,-5 ,23, 21, 65, 149])\n",
        "x = np.linalg.solve(A, b)\n",
        "x\n",
        "fim = time.time()\n",
        "print ('Função soma1: ', fim-ini)"
      ],
      "execution_count": 3,
      "outputs": [
        {
          "output_type": "stream",
          "text": [
            "Função soma1:  0.000286102294921875\n"
          ],
          "name": "stdout"
        }
      ]
    }
  ]
}